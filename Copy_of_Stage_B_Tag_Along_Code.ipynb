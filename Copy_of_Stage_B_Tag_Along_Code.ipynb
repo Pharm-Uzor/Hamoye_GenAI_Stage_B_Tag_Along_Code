{
  "nbformat": 4,
  "nbformat_minor": 0,
  "metadata": {
    "colab": {
      "provenance": [],
      "authorship_tag": "ABX9TyMLwB15FHFrjrQN6RQreyyE",
      "include_colab_link": true
    },
    "kernelspec": {
      "name": "python3",
      "display_name": "Python 3"
    },
    "language_info": {
      "name": "python"
    }
  },
  "cells": [
    {
      "cell_type": "markdown",
      "metadata": {
        "id": "view-in-github",
        "colab_type": "text"
      },
      "source": [
        "<a href=\"https://colab.research.google.com/github/Pharm-Uzor/Hamoye_GenAI_Stage_B_Tag_Along_Code/blob/main/Copy_of_Stage_B_Tag_Along_Code.ipynb\" target=\"_parent\"><img src=\"https://colab.research.google.com/assets/colab-badge.svg\" alt=\"Open In Colab\"/></a>"
      ]
    },
    {
      "cell_type": "code",
      "execution_count": null,
      "metadata": {
        "id": "YTJSn5kKO2Fo"
      },
      "outputs": [],
      "source": [
        "from openai import OpenAI\n"
      ]
    },
    {
      "cell_type": "code",
      "source": [
        "\n",
        "\n",
        "client = OpenAI(api_key =  \"sk-proj-Vt0BDa1MI2Rlaq0qLcbYT3BlbkFJjQf15ZAKpXbTCRaPpWKu\")\n"
      ],
      "metadata": {
        "id": "g4XMccAhehQ9"
      },
      "execution_count": null,
      "outputs": []
    },
    {
      "cell_type": "code",
      "source": [
        "response = client.chat.completions.create(model = 'gpt-3.5-turbo',\n",
        "                                          messages = [{'role':'system', 'content':\"Explain the technical concept briefly enough to fit as an MCQ option.\"},\n",
        "                                                      {'role':'user', 'content': \"What is cloud computing?\"}],\n",
        "                                          temperature = 0,\n",
        "                                          max_tokens = 30,\n",
        "                                          top_p = 1)\n",
        "print(response.choices[0].message.content)\n"
      ],
      "metadata": {
        "colab": {
          "base_uri": "https://localhost:8080/"
        },
        "id": "rslOZ3ZqO3v-",
        "outputId": "685eb11f-f3de-4c30-9f9d-c240ae84f42a"
      },
      "execution_count": null,
      "outputs": [
        {
          "output_type": "stream",
          "name": "stdout",
          "text": [
            "Cloud computing is a technology that allows users to access and store data, run applications, and use computing resources over the internet instead of on a local server\n"
          ]
        }
      ]
    },
    {
      "cell_type": "code",
      "source": [],
      "metadata": {
        "id": "KKRxyJoIbDnA"
      },
      "execution_count": null,
      "outputs": []
    },
    {
      "cell_type": "code",
      "source": [],
      "metadata": {
        "id": "1500sMZw24ot"
      },
      "execution_count": null,
      "outputs": []
    },
    {
      "cell_type": "code",
      "source": [
        "response = client.chat.completions.create(model = 'gpt-3.5-turbo',\n",
        "                                          messages = [{'role':'system', 'content':\"You are knowledgeable assistant. A user will ask a question and you should provide a clear and concise answer briefly enough to fit as an MCQ option\"},\n",
        "                                                      {'role':'user', 'content': \"What causes the Northern Lights?\"}],\n",
        "                                          temperature = 0,\n",
        "                                          max_tokens = 150,\n",
        "                                          top_p = 1)\n",
        "\n",
        "print(response.choices[0].message.content)\n"
      ],
      "metadata": {
        "colab": {
          "base_uri": "https://localhost:8080/"
        },
        "id": "CtKwBKUTiZdg",
        "outputId": "6f82a204-ae65-45a9-bd8e-7336f345def9"
      },
      "execution_count": null,
      "outputs": [
        {
          "output_type": "stream",
          "name": "stdout",
          "text": [
            "Solar wind interacting with the Earth's magnetic field causes the Northern Lights.\n"
          ]
        }
      ]
    },
    {
      "cell_type": "code",
      "source": [
        "response = client.chat.completions.create(model = 'gpt-3.5-turbo',\n",
        "                                          messages = [{'role':'system', 'content':\"Classify the following text's tone in a brief form that can fit as an MCQ option\"},\n",
        "                                                      {'role':'user', 'content': \"The meeting was cancelled due to unforeseen circumstances.\"}],\n",
        "                                          temperature = 0,\n",
        "                                          max_tokens = 30,\n",
        "                                          top_p = 1)\n",
        "\n",
        "print(response.choices[0].message.content)\n"
      ],
      "metadata": {
        "colab": {
          "base_uri": "https://localhost:8080/"
        },
        "id": "DmsqWLQV4cUr",
        "outputId": "f1ca06c9-b6e3-4b0d-bedb-9b83a7fa0ae9"
      },
      "execution_count": null,
      "outputs": [
        {
          "output_type": "stream",
          "name": "stdout",
          "text": [
            "Neutral\n"
          ]
        }
      ]
    },
    {
      "cell_type": "code",
      "source": [],
      "metadata": {
        "id": "iPp9tt9k29Hx"
      },
      "execution_count": null,
      "outputs": []
    },
    {
      "cell_type": "code",
      "source": [
        "response = client.chat.completions.create(model = 'gpt-3.5-turbo',\n",
        "                                          messages = [{'role':'system', 'content':\"Provide a concise fact about the event in history mentioned by the user briefly enough to fit as an MCQ option.\"\n",
        "\n",
        "},\n",
        "                                                      {'role':'user', 'content': \"what was the main cause of the American Civil War?\"}],\n",
        "                                          temperature = 0,\n",
        "                                          max_tokens = 40,\n",
        "                                          top_p = 1)\n",
        "\n",
        "print(response.choices[0].message.content)\n"
      ],
      "metadata": {
        "colab": {
          "base_uri": "https://localhost:8080/"
        },
        "id": "DGBiQ4rF5tom",
        "outputId": "3da639d9-0204-4f13-da15-5be41b1d8c93"
      },
      "execution_count": null,
      "outputs": [
        {
          "output_type": "stream",
          "name": "stdout",
          "text": [
            "The main cause of the American Civil War was: \n",
            "\n",
            "a) Disagreements over states' rights and slavery\n"
          ]
        }
      ]
    },
    {
      "cell_type": "code",
      "source": [],
      "metadata": {
        "id": "p9GGEYcc6JBE"
      },
      "execution_count": null,
      "outputs": []
    },
    {
      "cell_type": "code",
      "source": [
        "response = client.chat.completions.create(model = 'gpt-3.5-turbo',\n",
        "                                          messages = [{'role':'system', 'content':\"Classify the sentiment of the text provided by the user as positive, negative or neutral.\"},\n",
        "                                                      {'role':'user', 'content':\"I had an awful experience at the restaurant. The food was bland and the service was slow.\"}],\n",
        "                                          temperature = 0,\n",
        "                                          max_tokens = 16,\n",
        "                                          top_p = 1)\n",
        "\n",
        "print(response.choices[0].message.content)\n"
      ],
      "metadata": {
        "colab": {
          "base_uri": "https://localhost:8080/"
        },
        "id": "6YPrrZ6a6cjp",
        "outputId": "e1dc05e5-e3cb-40bf-f5ca-8cf716d6c4dc"
      },
      "execution_count": null,
      "outputs": [
        {
          "output_type": "stream",
          "name": "stdout",
          "text": [
            "The sentiment of the text is negative.\n"
          ]
        }
      ]
    },
    {
      "cell_type": "code",
      "source": [],
      "metadata": {
        "id": "KNisAOWZ7MtK"
      },
      "execution_count": null,
      "outputs": []
    },
    {
      "cell_type": "code",
      "source": [
        "response = client.chat.completions.create(model = 'gpt-3.5-turbo',\n",
        "                                          messages = [{'role':'system', 'content':\"Translate the following sentence into Spanish concisely to fit as an MCQ option.\"},\n",
        "                                                      {'role':'user', 'content':\"What time is the meeting\"}],\n",
        "                                          temperature = 0,\n",
        "                                          max_tokens = 30,\n",
        "                                          top_p = 1)\n",
        "\n",
        "print(response.choices[0].message.content)\n"
      ],
      "metadata": {
        "colab": {
          "base_uri": "https://localhost:8080/"
        },
        "id": "136yUOyR7NDG",
        "outputId": "50934d60-88d7-4cc2-be0f-48f642356d9c"
      },
      "execution_count": null,
      "outputs": [
        {
          "output_type": "stream",
          "name": "stdout",
          "text": [
            "¿A qué hora es la reunión?\n"
          ]
        }
      ]
    },
    {
      "cell_type": "code",
      "source": [],
      "metadata": {
        "id": "wDTttKjd7sJh"
      },
      "execution_count": null,
      "outputs": []
    },
    {
      "cell_type": "code",
      "source": [
        "response = client.chat.completions.create(model = 'gpt-3.5-turbo',\n",
        "                                          messages = [{'role':'system', 'content':\"Summarize the following text into a concise phrase suitable for an MCQ option.\"},\n",
        "                                                      {'role':'user', 'content': \"The internet was developed to help researchers communicate and share computing resources. Today, it connects millions of people and devices across the globe.\"\n",
        "\n",
        "}],\n",
        "                                          temperature = 0,\n",
        "                                          max_tokens = 30,\n",
        "                                          top_p = 1)\n",
        "\n",
        "print(response.choices[0].message.content)\n"
      ],
      "metadata": {
        "colab": {
          "base_uri": "https://localhost:8080/"
        },
        "id": "VQtpGNiL7sVB",
        "outputId": "5249ab03-2b0b-4a8f-96a8-efc9a6c06e35"
      },
      "execution_count": null,
      "outputs": [
        {
          "output_type": "stream",
          "name": "stdout",
          "text": [
            "Evolution of the internet from aiding researchers to global connectivity.\n"
          ]
        }
      ]
    },
    {
      "cell_type": "code",
      "source": [],
      "metadata": {
        "id": "dR4yHog88uIu"
      },
      "execution_count": null,
      "outputs": []
    },
    {
      "cell_type": "code",
      "source": [
        "response = client.chat.completions.create(model = 'gpt-3.5-turbo',\n",
        "                                          messages = [{'role':'system', 'content':\"You will be provided with a sentence in English, and your task is to translate it into German.\"},\n",
        "                                                      {'role':'user', 'content': '''translate into German: \"How do you say 'I love to travel' in German?'' '''}],\n",
        "                                          temperature = 0,\n",
        "                                          max_tokens = 64,\n",
        "                                          top_p = 1)\n",
        "\n",
        "print(response.choices[0].message.content)\n"
      ],
      "metadata": {
        "colab": {
          "base_uri": "https://localhost:8080/"
        },
        "id": "SpSBWiGs8uZ5",
        "outputId": "d5b456a4-29b8-42ba-ac55-ecea19c3fe52"
      },
      "execution_count": null,
      "outputs": [
        {
          "output_type": "stream",
          "name": "stdout",
          "text": [
            "\"Wie sagt man 'Ich liebe es zu reisen' auf Deutsch?\"\n"
          ]
        }
      ]
    },
    {
      "cell_type": "code",
      "source": [],
      "metadata": {
        "id": "GlyZs0dv-Ok1"
      },
      "execution_count": null,
      "outputs": []
    },
    {
      "cell_type": "code",
      "source": [
        "response = client.chat.completions.create(model = 'gpt-3.5-turbo',\n",
        "                                          messages = [{'role':'system', 'content':\"Provide a brief, accurate answer to the user’s question that can be used as an MCQ option.\"},\n",
        "                                                      {'role':'user', 'content': \"Who is known as the father of computer science?\"\n",
        "\n",
        "}],\n",
        "                                          temperature = 0,\n",
        "                                          max_tokens = 30,\n",
        "                                          top_p = 1)\n",
        "\n",
        "print(response.choices[0].message.content)\n"
      ],
      "metadata": {
        "colab": {
          "base_uri": "https://localhost:8080/"
        },
        "id": "oiXSzq_7-Oyh",
        "outputId": "b86c35f4-9523-4007-869e-0280717cc004"
      },
      "execution_count": null,
      "outputs": [
        {
          "output_type": "stream",
          "name": "stdout",
          "text": [
            "Alan Turing\n"
          ]
        }
      ]
    },
    {
      "cell_type": "code",
      "source": [],
      "metadata": {
        "id": "ShH4wWnu6_DO"
      },
      "execution_count": null,
      "outputs": []
    },
    {
      "cell_type": "code",
      "source": [
        "#16\n",
        "response = client.chat.completions.create(model = 'gpt-3.5-turbo',\n",
        "                                          messages = [{'role':'system', 'content':\"You are to summarize the following text into a concise form, maintaining the key points and context, breifly enough to fi as an MCQ option\"},\n",
        "                                                      {'role':'user', 'content': \"The economy has been growing stadily over the past few quarters, driven by increases in consumer spending and substantial investments in renewable energy infrastructure. Unemployment rates have also fallen to record lows as new industries are crating more jobs\"\n",
        "\n",
        "}],\n",
        "                                          temperature = 0,\n",
        "                                          max_tokens = 100,\n",
        "                                          top_p = 1)\n",
        "\n",
        "print(response.choices[0].message.content)\n"
      ],
      "metadata": {
        "colab": {
          "base_uri": "https://localhost:8080/"
        },
        "id": "G-XtFhyG-xso",
        "outputId": "9b16ee4e-985d-46b6-d137-79b8d6037eb3"
      },
      "execution_count": null,
      "outputs": [
        {
          "output_type": "stream",
          "name": "stdout",
          "text": [
            "The economy has been steadily growing due to increased consumer spending and investments in renewable energy infrastructure. Unemployment rates have reached record lows as new industries create more jobs.\n"
          ]
        }
      ]
    },
    {
      "cell_type": "code",
      "source": [],
      "metadata": {
        "id": "_DuvpMDf_5iw"
      },
      "execution_count": null,
      "outputs": []
    }
  ]
}